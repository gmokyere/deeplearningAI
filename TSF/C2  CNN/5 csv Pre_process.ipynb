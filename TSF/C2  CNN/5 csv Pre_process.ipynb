{
 "cells": [
  {
   "cell_type": "markdown",
   "metadata": {},
   "source": [
    "# Import Libraries\n",
    "\n",
    "Sign dataset"
   ]
  },
  {
   "cell_type": "code",
   "execution_count": 1,
   "metadata": {},
   "outputs": [],
   "source": [
    "import csv\n",
    "import numpy as np\n",
    "import tensorflow as tf\n",
    "from tensorflow.keras.preprocessing.image import ImageDataGenerator\n",
    "from os import getcwd\n",
    "\n"
   ]
  },
  {
   "cell_type": "markdown",
   "metadata": {},
   "source": [
    "## Function for pre-processing csv files"
   ]
  },
  {
   "cell_type": "code",
   "execution_count": 4,
   "metadata": {},
   "outputs": [],
   "source": [
    "def get_data(filename):\n",
    "  # You will need to write code that will read the file passed\n",
    "  # into this function. The first line contains the column headers\n",
    "  # so you should ignore it\n",
    "  # Each successive line contians 785 comma separated values between 0 and 255\n",
    "  # The first value is the label\n",
    "  # The rest are the pixel values for that picture\n",
    "  # The function will return 2 np.array types. One with all the labels\n",
    "  # One with all the images\n",
    "  #\n",
    "  # Tips: \n",
    "  # If you read a full line (as 'row') then row[0] has the label\n",
    "  # and row[1:785] has the 784 pixel values\n",
    "  # Take a look at np.array_split to turn the 784 pixels into 28x28\n",
    "  # You are reading in strings, but need the values to be floats\n",
    "  # Check out np.array().astype for a conversion\n",
    "    with open(filename) as training_file:\n",
    "      # Your code starts here\n",
    "        csv_reader = csv.reader(training_file, delimiter=',')\n",
    "        first_line = True\n",
    "        temp_images = []\n",
    "        temp_labels = []\n",
    "        for row in csv_reader:\n",
    "            if first_line:\n",
    "               # print(\\\"Ignoring first line\\\")\n",
    "                first_line = False\n",
    "            else:\n",
    "                temp_labels.append(row[0])\n",
    "                image_data = row[1:785]\n",
    "                image_data_as_array = np.array_split(image_data, 28)\n",
    "                temp_images.append(image_data_as_array)\n",
    "                    \n",
    "        images = np.array(temp_images).astype('float')\n",
    "        labels = np.array(temp_labels).astype('float')\n",
    "\n",
    "      # Your code ends here\n",
    "    return images, labels\n"
   ]
  },
  {
   "cell_type": "code",
   "execution_count": 6,
   "metadata": {},
   "outputs": [
    {
     "name": "stdout",
     "output_type": "stream",
     "text": [
      "(27455, 28, 28)\n",
      "(27455,)\n",
      "(7172, 28, 28)\n",
      "(7172,)\n"
     ]
    }
   ],
   "source": [
    "path_sign_mnist_train = \"signlanguage_data/sign_mnist_train.csv\"\n",
    "path_sign_mnist_test = \"signlanguage_data/sign_mnist_test.csv\"\n",
    "training_images, training_labels = get_data(path_sign_mnist_train)\n",
    "testing_images, testing_labels = get_data(path_sign_mnist_test)\n",
    "\n",
    "# Keep these\n",
    "print(training_images.shape)\n",
    "print(training_labels.shape)\n",
    "print(testing_images.shape)\n",
    "print(testing_labels.shape)\n",
    "\n",
    "# Their output should be:\n",
    "# (27455, 28, 28)\n",
    "# (27455,)\n",
    "# (7172, 28, 28)\n",
    "# (7172,)"
   ]
  },
  {
   "cell_type": "markdown",
   "metadata": {},
   "source": [
    "## Data Generator\n",
    "\n",
    "Don't run cell twice"
   ]
  },
  {
   "cell_type": "code",
   "execution_count": 7,
   "metadata": {},
   "outputs": [],
   "source": [
    "# In this section you will have to add another dimension to the data\n",
    "# So, for example, if your array is (10000, 28, 28)\n",
    "# You will need to make it (10000, 28, 28, 1)\n",
    "# Hint: np.expand_dims\n",
    "\n",
    "training_images =np.expand_dims(training_images, axis = 3) # Your Code Here\n",
    "testing_images = np.expand_dims(testing_images, axis = 3)# Your Code Here\n",
    "\n",
    "# Keep These\n",
    "print(training_images.shape)\n",
    "print(testing_images.shape)\n",
    "    \n",
    "# Their output should be:\n",
    "# (27455, 28, 28, 1)\n",
    "# (7172, 28, 28, 1)"
   ]
  },
  {
   "cell_type": "code",
   "execution_count": 8,
   "metadata": {},
   "outputs": [
    {
     "name": "stdout",
     "output_type": "stream",
     "text": [
      "(27455, 28, 28, 1)\n",
      "(7172, 28, 28, 1)\n"
     ]
    }
   ],
   "source": [
    "\n",
    "# Create an ImageDataGenerator and do Image Augmentation\n",
    "train_datagen = ImageDataGenerator(\n",
    "    # Your Code Here\n",
    "                    rescale = 1./255,\n",
    "                    rotation_range=40,\n",
    "                    width_shift_range=0.2,\n",
    "                    height_shift_range=0.2,\n",
    "                    shear_range=0.2,\n",
    "                    zoom_range=0.2,\n",
    "                    horizontal_flip=True,\n",
    "                    fill_mode='nearest'\n",
    "    )\n",
    "train_generator = train_datagen.flow(training_images,\n",
    "                                     training_labels,\n",
    "                                    batch_size = 10)\n",
    "\n",
    "validation_datagen = ImageDataGenerator(\n",
    "    # Your Code Here\n",
    "    rescale = 1./255)\n",
    "\n",
    "validation_generator = validation_datagen.flow(testing_images,\n",
    "                                     testing_labels,\n",
    "                                    batch_size = 10)\n"
   ]
  },
  {
   "cell_type": "markdown",
   "metadata": {},
   "source": [
    "# Model"
   ]
  },
  {
   "cell_type": "code",
   "execution_count": 9,
   "metadata": {},
   "outputs": [
    {
     "name": "stdout",
     "output_type": "stream",
     "text": [
      "WARNING:tensorflow:From <ipython-input-9-be0361bf4975>:25: Model.fit_generator (from tensorflow.python.keras.engine.training) is deprecated and will be removed in a future version.\n",
      "Instructions for updating:\n",
      "Please use Model.fit, which supports generators.\n",
      "Epoch 1/5\n",
      "2746/2746 [==============================] - 37s 13ms/step - acc: 0.2526 - loss: 2.4000 - val_loss: 1.1804 - val_acc: 0.6023\n",
      "Epoch 2/5\n",
      "2746/2746 [==============================] - 38s 14ms/step - acc: 0.5390 - loss: 1.4019 - val_loss: 0.8021 - val_acc: 0.7192\n",
      "Epoch 3/5\n",
      "2746/2746 [==============================] - 41s 15ms/step - acc: 0.6625 - loss: 1.0183 - val_loss: 0.5431 - val_acc: 0.8169\n",
      "Epoch 4/5\n",
      "2746/2746 [==============================] - 39s 14ms/step - acc: 0.7221 - loss: 0.8317 - val_loss: 0.5584 - val_acc: 0.8005\n",
      "Epoch 5/5\n",
      "2746/2746 [==============================] - 42s 15ms/step - acc: 0.7649 - loss: 0.7039 - val_loss: 0.3286 - val_acc: 0.8939\n"
     ]
    },
    {
     "data": {
      "text/plain": [
       "[149.29812622070312, 0.6914389133453369]"
      ]
     },
     "execution_count": 9,
     "metadata": {},
     "output_type": "execute_result"
    }
   ],
   "source": [
    "# Define the model\n",
    "# Use no more than 2 Conv2D and 2 MaxPooling2D\n",
    "model = tf.keras.models.Sequential([\n",
    "    # Your Code Here\n",
    "                    tf.keras.layers.Conv2D(64, (3,3), activation='relu', input_shape=(28, 28, 1)),\n",
    "                    tf.keras.layers.MaxPooling2D(2, 2),\n",
    "                    # second convolution\n",
    "                    tf.keras.layers.Conv2D(128, (3,3), activation='relu'),\n",
    "                    tf.keras.layers.MaxPooling2D(2,2),\n",
    "                    # Flatten the results\n",
    "                    tf.keras.layers.Flatten(),\n",
    "                    #tf.keras.layers.Dropout(0.2),\n",
    "                    tf.keras.layers.Dense(512, activation='relu'),\n",
    "                    tf.keras.layers.Dense(26, activation='softmax')\n",
    "                    ])\n",
    "\n",
    "# Compile Model. \n",
    "model.compile(loss = 'sparse_categorical_crossentropy', optimizer = 'adam', metrics = ['acc'])\n",
    "              # Your Code Here)\n",
    "\n",
    "# Train the Model\n",
    "history = model.fit(train_generator,\n",
    "                              validation_data = validation_generator,\n",
    "                              epochs=5,\n",
    "                              verbose = 1) # Your Code Here (set 'epochs' = 2))\n",
    "\n",
    "model.evaluate(testing_images, testing_labels, verbose=0)"
   ]
  },
  {
   "cell_type": "markdown",
   "metadata": {},
   "source": [
    "## Diagnostics"
   ]
  },
  {
   "cell_type": "code",
   "execution_count": 10,
   "metadata": {},
   "outputs": [
    {
     "data": {
      "image/png": "[encoded data removed]",
      "text/plain": [
       "<Figure size 432x288 with 1 Axes>"
      ]
     },
     "metadata": {
      "needs_background": "light"
     },
     "output_type": "display_data"
    },
    {
     "data": {
      "image/png": "[encoded data removed]",
      "text/plain": [
       "<Figure size 432x288 with 1 Axes>"
      ]
     },
     "metadata": {
      "needs_background": "light"
     },
     "output_type": "display_data"
    }
   ],
   "source": [
    "# Plot the chart for accuracy and loss on both training and validation\n",
    "%matplotlib inline\n",
    "import matplotlib.pyplot as plt\n",
    "acc = history.history['acc']\n",
    "val_acc = history.history['val_acc']\n",
    "loss = history.history['loss']\n",
    "val_loss = history.history['val_loss']\n",
    "epochs = range(len(acc))\n",
    "\n",
    "plt.plot(epochs, acc, 'r', label='Training accuracy')\n",
    "plt.plot(epochs, val_acc, 'b', label='Validation accuracy')\n",
    "plt.title('Training and validation accuracy')\n",
    "plt.legend()\n",
    "plt.figure()\n",
    "\n",
    "plt.plot(epochs, loss, 'r', label='Training Loss')\n",
    "plt.plot(epochs, val_loss, 'b', label='Validation Loss')\n",
    "plt.title('Training and validation loss')\n",
    "plt.legend()\n",
    "\n",
    "plt.show()"
   ]
  },
  {
   "cell_type": "code",
   "execution_count": null,
   "metadata": {},
   "outputs": [],
   "source": []
  }
 ],
 "metadata": {
  "kernelspec": {
   "display_name": "Python [conda env:py3_TF2.0]",
   "language": "python",
   "name": "conda-env-py3_TF2.0-py"
  },
  "language_info": {
   "codemirror_mode": {
    "name": "ipython",
    "version": 3
   },
   "file_extension": ".py",
   "mimetype": "text/x-python",
   "name": "python",
   "nbconvert_exporter": "python",
   "pygments_lexer": "ipython3",
   "version": "3.5.6"
  }
 },
 "nbformat": 4,
 "nbformat_minor": 2
}
