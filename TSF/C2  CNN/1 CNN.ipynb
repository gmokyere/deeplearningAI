{
 "cells": [
  {
   "cell_type": "code",
   "execution_count": null,
   "metadata": {
    "id": "zX4Kg8DUTKWO"
   },
   "outputs": [],
   "source": [
    "#@title Licensed under the Apache License, Version 2.0 (the \"License\");\n",
    "# you may not use this file except in compliance with the License.\n",
    "# You may obtain a copy of the License at\n",
    "#\n",
    "# https://www.apache.org/licenses/LICENSE-2.0\n",
    "#\n",
    "# Unless required by applicable law or agreed to in writing, software\n",
    "# distributed under the License is distributed on an \"AS IS\" BASIS,\n",
    "# WITHOUT WARRANTIES OR CONDITIONS OF ANY KIND, either express or implied.\n",
    "# See the License for the specific language governing permissions and\n",
    "# limitations under the License."
   ]
  },
  {
   "cell_type": "markdown",
   "metadata": {},
   "source": [
    "# 1. Libraries"
   ]
  },
  {
   "cell_type": "code",
   "execution_count": 1,
   "metadata": {
    "id": "dn-6c02VmqiN"
   },
   "outputs": [],
   "source": [
    "# In this exercise you will train a CNN on the FULL Cats-v-dogs dataset\n",
    "# This will require you doing a lot of data preprocessing because\n",
    "# the dataset isn't split into training and validation for you\n",
    "# This code block has all the required inputs\n",
    "import os\n",
    "import zipfile\n",
    "import random\n",
    "import tensorflow as tf\n",
    "from tensorflow.keras.optimizers import RMSprop\n",
    "from tensorflow.keras.preprocessing.image import ImageDataGenerator\n",
    "from shutil import copyfile"
   ]
  },
  {
   "cell_type": "markdown",
   "metadata": {},
   "source": [
    "# 2. Skip this Preprocessing step to step 3"
   ]
  },
  {
   "cell_type": "code",
   "execution_count": null,
   "metadata": {
    "colab": {
     "base_uri": "https://localhost:8080/"
    },
    "id": "3sd9dQWa23aj",
    "outputId": "438555a4-715b-4bd7-9fb0-acffaa6e684c"
   },
   "outputs": [],
   "source": [
    "# This code block downloads the full Cats-v-Dogs dataset and stores it as \n",
    "# cats-and-dogs.zip. It then unzips it to /tmp\n",
    "# which will create a tmp/PetImages directory containing subdirectories\n",
    "# called 'Cat' and 'Dog' (that's how the original researchers structured it)\n",
    "# If the URL doesn't work, \n",
    "# .   visit https://www.microsoft.com/en-us/download/confirmation.aspx?id=54765\n",
    "# And right click on the 'Download Manually' link to get a new URL\n",
    "\n",
    "local_zip = 'data/cats_and_dogs.zip'\n",
    "zip_ref = zipfile.ZipFile(local_zip, 'r')\n",
    "zip_ref.extractall('data/')\n",
    "zip_ref.close()\n"
   ]
  },
  {
   "cell_type": "code",
   "execution_count": null,
   "metadata": {
    "colab": {
     "base_uri": "https://localhost:8080/"
    },
    "id": "gi3yD62a6X3S",
    "outputId": "50d7e883-e25b-41f0-f85e-f2bb49da8990"
   },
   "outputs": [],
   "source": [
    "print(len(os.listdir('/data/PetImages/Cat/')))\n",
    "print(len(os.listdir('/data/PetImages/Dog/')))\n",
    "\n",
    "# Expected Output:\n",
    "# 12501\n",
    "# 12501"
   ]
  },
  {
   "cell_type": "code",
   "execution_count": null,
   "metadata": {
    "colab": {
     "base_uri": "https://localhost:8080/"
    },
    "id": "F-QkLjxpmyK2",
    "outputId": "d06baf80-2746-4df6-b7f9-b739ff5f4e27"
   },
   "outputs": [],
   "source": [
    "# Use os.mkdir to create your directories\n",
    "# You will need a directory for cats-v-dogs, and subdirectories for training\n",
    "# and testing. These in turn will need subdirectories for 'cats' and 'dogs'\n",
    "directories = [\n",
    "  \"/tmp/cats-v-dogs\",\n",
    "             \"/tmp/cats-v-dogs/training/\",\n",
    "             \"/tmp/cats-v-dogs/training/dogs\",\n",
    "             \"/tmp/cats-v-dogs/training/cats\",\n",
    "\n",
    "             '/tmp/cats-v-dogs/testing/',\n",
    "             '/tmp/cats-v-dogs/testing/cats',\n",
    "             '/tmp/cats-v-dogs/testing/dogs'\n",
    "             \n",
    "             ]\n",
    "\n",
    "for directory in directories:\n",
    "  try:\n",
    "      #YOUR CODE GOES HERE\n",
    "      os.mkdir(directory)\n",
    "      print(directory,  \"created\")\n",
    "  except OSError:\n",
    "      print(directory, \"failed\")\n",
    "      pass"
   ]
  },
  {
   "cell_type": "code",
   "execution_count": null,
   "metadata": {
    "colab": {
     "base_uri": "https://localhost:8080/"
    },
    "id": "zvSODo0f9LaU",
    "outputId": "888dcd17-b33a-4a4b-9479-a1b554dc8a07"
   },
   "outputs": [],
   "source": [
    "# Write a python function called split_data which takes\n",
    "# a SOURCE directory containing the files\n",
    "# a TRAINING directory that a portion of the files will be copied to\n",
    "# a TESTING directory that a portion of the files will be copie to\n",
    "# a SPLIT SIZE to determine the portion\n",
    "# The files should also be randomized, so that the training set is a random\n",
    "# X% of the files, and the test set is the remaining files\n",
    "# SO, for example, if SOURCE is PetImages/Cat, and SPLIT SIZE is .9\n",
    "# Then 90% of the images in PetImages/Cat will be copied to the TRAINING dir\n",
    "# and 10% of the images will be copied to the TESTING dir\n",
    "# Also -- All images should be checked, and if they have a zero file length,\n",
    "# they will not be copied over\n",
    "#\n",
    "# os.listdir(DIRECTORY) gives you a listing of the contents of that directory\n",
    "# os.path.getsize(PATH) gives you the size of the file\n",
    "# copyfile(source, destination) copies a file from source to destination\n",
    "# random.sample(list, len(list)) shuffles a list\n",
    "def split_data(SOURCE, TRAINING, TESTING, SPLIT_SIZE):\n",
    "  # YOUR CODE STARTS HERE\n",
    "\n",
    "  all_files = []\n",
    "  for file_name in os.listdir(SOURCE):\n",
    "    file_path = SOURCE + file_name \n",
    "\n",
    "    if os.path.getsize(file_path):\n",
    "      all_files.append(file_name)\n",
    "    else:\n",
    "      print('{} is zero length, so ignoring'.format(file_name))\n",
    "      \n",
    "  split = int(len(all_files)* SPLIT_SIZE)     \n",
    "  shuffled = random.sample(all_files, len(all_files))\n",
    "\n",
    "  train = shuffled[: split]\n",
    "  test = shuffled[split : ]\n",
    "\n",
    "  for file_name in train:\n",
    "    copyfile(SOURCE + file_name, TRAINING + file_name)\n",
    "\n",
    "  for file_name in test:\n",
    "    copyfile(SOURCE + file_name, TESTING +file_name)\n",
    "\n",
    "  print('total files', len(all_files))\n",
    "  # YOUR CODE ENDS HERE\n",
    "\n",
    "\n",
    "CAT_SOURCE_DIR = \"/tmp/PetImages/Cat/\"\n",
    "TRAINING_CATS_DIR = \"/tmp/cats-v-dogs/training/cats/\"\n",
    "TESTING_CATS_DIR = \"/tmp/cats-v-dogs/testing/cats/\"\n",
    "DOG_SOURCE_DIR = \"/tmp/PetImages/Dog/\"\n",
    "TRAINING_DOGS_DIR = \"/tmp/cats-v-dogs/training/dogs/\"\n",
    "TESTING_DOGS_DIR = \"/tmp/cats-v-dogs/testing/dogs/\"\n",
    "\n",
    "split_size = .9\n",
    "split_data(CAT_SOURCE_DIR, TRAINING_CATS_DIR, TESTING_CATS_DIR, split_size)\n",
    "split_data(DOG_SOURCE_DIR, TRAINING_DOGS_DIR, TESTING_DOGS_DIR, split_size)\n",
    "\n",
    "# Expected output\n",
    "# 666.jpg is zero length, so ignoring\n",
    "# 11702.jpg is zero length, so ignoring"
   ]
  },
  {
   "cell_type": "markdown",
   "metadata": {
    "colab": {
     "base_uri": "https://localhost:8080/"
    },
    "id": "luthalB76ufC",
    "outputId": "7ec2905d-7a41-4974-fa5d-3edf878648e1"
   },
   "source": [
    "# 3. Models\n"
   ]
  },
  {
   "cell_type": "code",
   "execution_count": 2,
   "metadata": {},
   "outputs": [
    {
     "name": "stdout",
     "output_type": "stream",
     "text": [
      "1000\n",
      "1000\n",
      "500\n",
      "500\n"
     ]
    }
   ],
   "source": [
    "\n",
    "print(len(os.listdir('data/cats_and_dogs_filtered/train/cats/')))\n",
    "print(len(os.listdir('data/cats_and_dogs_filtered/train/dogs/')))\n",
    "print(len(os.listdir('data/cats_and_dogs_filtered/validation/cats/')))\n",
    "print(len(os.listdir(\"data/cats_and_dogs_filtered/validation/dogs\")))\n",
    "\n"
   ]
  },
  {
   "cell_type": "code",
   "execution_count": 12,
   "metadata": {
    "colab": {
     "base_uri": "https://localhost:8080/"
    },
    "id": "-BQrav4anTmj",
    "outputId": "c467b8a1-92cd-4633-9ee1-d4646ea143c5"
   },
   "outputs": [
    {
     "name": "stdout",
     "output_type": "stream",
     "text": [
      "Model: \"sequential_2\"\n",
      "_________________________________________________________________\n",
      "Layer (type)                 Output Shape              Param #   \n",
      "=================================================================\n",
      "conv2d_6 (Conv2D)            (None, 148, 148, 64)      1792      \n",
      "_________________________________________________________________\n",
      "max_pooling2d_6 (MaxPooling2 (None, 74, 74, 64)        0         \n",
      "_________________________________________________________________\n",
      "conv2d_7 (Conv2D)            (None, 72, 72, 64)        36928     \n",
      "_________________________________________________________________\n",
      "max_pooling2d_7 (MaxPooling2 (None, 36, 36, 64)        0         \n",
      "_________________________________________________________________\n",
      "conv2d_8 (Conv2D)            (None, 34, 34, 64)        36928     \n",
      "_________________________________________________________________\n",
      "max_pooling2d_8 (MaxPooling2 (None, 17, 17, 64)        0         \n",
      "_________________________________________________________________\n",
      "flatten_2 (Flatten)          (None, 18496)             0         \n",
      "_________________________________________________________________\n",
      "dense_4 (Dense)              (None, 512)               9470464   \n",
      "_________________________________________________________________\n",
      "dense_5 (Dense)              (None, 1)                 513       \n",
      "=================================================================\n",
      "Total params: 9,546,625\n",
      "Trainable params: 9,546,625\n",
      "Non-trainable params: 0\n",
      "_________________________________________________________________\n"
     ]
    }
   ],
   "source": [
    "# DEFINE A KERAS MODEL TO CLASSIFY CATS V DOGS\n",
    "# USE AT LEAST 3 CONVOLUTION LAYERS\n",
    "model = tf.keras.models.Sequential([\n",
    "        tf.keras.layers.Conv2D(64, (3,3), activation= 'relu', input_shape = (150,150,3)),\n",
    "        tf.keras.layers.MaxPooling2D(2,2),\n",
    "\n",
    "        tf.keras.layers.Conv2D(64, (3,3), activation= 'relu'),\n",
    "        tf.keras.layers.MaxPooling2D(2,2),\n",
    "\n",
    "        tf.keras.layers.Conv2D(64, (3,3), activation= 'relu'),\n",
    "        tf.keras.layers.MaxPooling2D(2,2),\n",
    "\n",
    "        tf.keras.layers.Flatten(),\n",
    "        tf.keras.layers.Dense(512, activation=\"relu\"),\n",
    "        tf.keras.layers.Dense(units=1, activation='sigmoid')\n",
    "    ])\n",
    "\n",
    "\n",
    "model.compile(optimizer=RMSprop(lr=0.001), loss='binary_crossentropy', metrics=['accuracy'])\n",
    "\n",
    "model.summary()"
   ]
  },
  {
   "cell_type": "code",
   "execution_count": 7,
   "metadata": {
    "colab": {
     "base_uri": "https://localhost:8080/"
    },
    "id": "mlNjoJ5D61N6",
    "outputId": "2b9372e7-942f-4104-f29a-2a27d1020e93"
   },
   "outputs": [
    {
     "name": "stdout",
     "output_type": "stream",
     "text": [
      "Found 2000 images belonging to 2 classes.\n",
      "Found 1000 images belonging to 2 classes.\n"
     ]
    }
   ],
   "source": [
    "TRAINING_DIR =  \"data/cats_and_dogs_filtered/train\"\n",
    "train_datagen = ImageDataGenerator(rescale = 1./255) \n",
    "train_generator = train_datagen.flow_from_directory(\n",
    "    TRAINING_DIR, \n",
    "    batch_size = 32,\n",
    "    target_size = (150,150), class_mode = 'binary')\n",
    "\n",
    "VALIDATION_DIR =  \"data/cats_and_dogs_filtered/validation\" \n",
    "validation_datagen = ImageDataGenerator(rescale = 1./255)\n",
    "validation_generator = validation_datagen.flow_from_directory(\n",
    "    VALIDATION_DIR, \n",
    "    batch_size = 64,\n",
    "    target_size = (150,150),\n",
    "    class_mode = 'binary')\n",
    "\n",
    "\n",
    "# Expected Output:\n",
    "# Found 22498 images belonging to 2 classes.\n",
    "# Found 2500 images belonging to 2 classes."
   ]
  },
  {
   "cell_type": "code",
   "execution_count": 13,
   "metadata": {
    "colab": {
     "base_uri": "https://localhost:8080/",
     "height": 443
    },
    "id": "KyS4n53w7DxC",
    "outputId": "e18fe762-3c70-4f21-cc8f-4b1d36fcc47d"
   },
   "outputs": [
    {
     "name": "stdout",
     "output_type": "stream",
     "text": [
      "Epoch 1/11\n",
      "32/32 [==============================] - 23s 720ms/step - loss: 0.8252 - accuracy: 0.5060 - val_accuracy: 0.5020 - val_loss: 0.6924\n",
      "Epoch 2/11\n",
      "32/32 [==============================] - 24s 762ms/step - loss: 0.7034 - accuracy: 0.5248 - val_accuracy: 0.5040 - val_loss: 0.6913\n",
      "Epoch 3/11\n",
      "32/32 [==============================] - 27s 855ms/step - loss: 0.7009 - accuracy: 0.5595 - val_accuracy: 0.5240 - val_loss: 0.7003\n",
      "Epoch 4/11\n",
      "32/32 [==============================] - 26s 824ms/step - loss: 0.6955 - accuracy: 0.5781 - val_accuracy: 0.6560 - val_loss: 0.6579\n",
      "Epoch 5/11\n",
      "32/32 [==============================] - 25s 766ms/step - loss: 0.6515 - accuracy: 0.6152 - val_accuracy: 0.5900 - val_loss: 0.6751\n",
      "Epoch 6/11\n",
      "32/32 [==============================] - 25s 788ms/step - loss: 0.5978 - accuracy: 0.7021 - val_accuracy: 0.6860 - val_loss: 0.5968\n",
      "Epoch 7/11\n",
      "32/32 [==============================] - 27s 854ms/step - loss: 0.5311 - accuracy: 0.7441 - val_accuracy: 0.5960 - val_loss: 0.8049\n",
      "Epoch 8/11\n",
      "32/32 [==============================] - 25s 782ms/step - loss: 0.5244 - accuracy: 0.7354 - val_accuracy: 0.7150 - val_loss: 0.5777\n",
      "Epoch 9/11\n",
      "32/32 [==============================] - 25s 788ms/step - loss: 0.4796 - accuracy: 0.7793 - val_accuracy: 0.6640 - val_loss: 0.6504\n",
      "Epoch 10/11\n",
      "32/32 [==============================] - 26s 804ms/step - loss: 0.4454 - accuracy: 0.7837 - val_accuracy: 0.7250 - val_loss: 0.6025\n",
      "Epoch 11/11\n",
      "32/32 [==============================] - 26s 805ms/step - loss: 0.4464 - accuracy: 0.8036 - val_accuracy: 0.6870 - val_loss: 0.6720\n"
     ]
    }
   ],
   "source": [
    "history = model.fit(train_generator, epochs=10,\n",
    "          steps_per_epoch = 32,\n",
    "          verbose=1,\n",
    "          validation_data=validation_generator)\n",
    "\n",
    "# The expectation here is that the model will train, and that accuracy will be > 95% on both training and validation\n",
    "# i.e. acc:A1 and val_acc:A2 will be visible, and both A1 and A2 will be > .9"
   ]
  },
  {
   "cell_type": "code",
   "execution_count": 14,
   "metadata": {
    "id": "MWZrJN4-65RC"
   },
   "outputs": [
    {
     "data": {
      "text/plain": [
       "Text(0.5, 1.0, 'Training and validation loss')"
      ]
     },
     "execution_count": 14,
     "metadata": {},
     "output_type": "execute_result"
    },
    {
     "data": {
      "image/png": "[encoded data removed]",
      "text/plain": [
       "<Figure size 432x288 with 1 Axes>"
      ]
     },
     "metadata": {
      "needs_background": "light"
     },
     "output_type": "display_data"
    },
    {
     "data": {
      "image/png": "[encoded data removed]",
      "text/plain": [
       "<Figure size 432x288 with 1 Axes>"
      ]
     },
     "metadata": {
      "needs_background": "light"
     },
     "output_type": "display_data"
    }
   ],
   "source": [
    "# PLOT LOSS AND ACCURACY\n",
    "%matplotlib inline\n",
    "\n",
    "import matplotlib.image  as mpimg\n",
    "import matplotlib.pyplot as plt\n",
    "\n",
    "#-----------------------------------------------------------\n",
    "# Retrieve a list of list results on training and test data\n",
    "# sets for each training epoch\n",
    "#-----------------------------------------------------------\n",
    "acc=history.history['accuracy']\n",
    "val_acc=history.history['val_accuracy']\n",
    "loss=history.history['loss']\n",
    "val_loss=history.history['val_loss']\n",
    "\n",
    "epochs=range(len(acc)) # Get number of epochs\n",
    "\n",
    "#------------------------------------------------\n",
    "# Plot training and validation accuracy per epoch\n",
    "#------------------------------------------------\n",
    "plt.plot(epochs, acc, 'r', \"Training Accuracy\")\n",
    "plt.plot(epochs, val_acc, 'b', \"Validation Accuracy\")\n",
    "plt.title('Training and validation accuracy')\n",
    "plt.figure()\n",
    "\n",
    "#------------------------------------------------\n",
    "# Plot training and validation loss per epoch\n",
    "#------------------------------------------------\n",
    "plt.plot(epochs, loss, 'r', \"Training Loss\")\n",
    "plt.plot(epochs, val_loss, 'b', \"Validation Loss\")\n",
    "\n",
    "\n",
    "plt.title('Training and validation loss')\n",
    "\n",
    "# Desired output. Charts with training and validation metrics. No crash :)"
   ]
  },
  {
   "cell_type": "code",
   "execution_count": 16,
   "metadata": {
    "id": "LqL6FYUrtXpf"
   },
   "outputs": [
    {
     "ename": "SyntaxError",
     "evalue": "invalid syntax (<ipython-input-16-c099e8bfd509>, line 15)",
     "output_type": "error",
     "traceback": [
      "\u001b[0;36m  File \u001b[0;32m\"<ipython-input-16-c099e8bfd509>\"\u001b[0;36m, line \u001b[0;32m15\u001b[0m\n\u001b[0;31m    x = image.img_to_array(img)\u001b[0m\n\u001b[0m      ^\u001b[0m\n\u001b[0;31mSyntaxError\u001b[0m\u001b[0;31m:\u001b[0m invalid syntax\n"
     ]
    }
   ],
   "source": [
    "# Here's a codeblock just for fun. You should be able to upload an image here \n",
    "# and have it classified without crashing\n",
    "\n",
    "import numpy as np\n",
    "from google.colab import files\n",
    "from keras.preprocessing import image\n",
    "\n",
    "uploaded = files.upload()\n",
    "\n",
    "for fn in uploaded.keys():\n",
    " \n",
    "  # predicting images\n",
    "  path = '/content/' + fn\n",
    "  img = image.load_img(path, target_size=(# YOUR CODE HERE))\n",
    "  x = image.img_to_array(img)\n",
    "  x = np.expand_dims(x, axis=0)\n",
    "\n",
    "  images = np.vstack([x])\n",
    "  classes = model.predict(images, batch_size=10)\n",
    "  print(classes[0])\n",
    "  if classes[0]>0.5:\n",
    "    print(fn + \" is a dog\")\n",
    "  else:\n",
    "    print(fn + \" is a cat\")"
   ]
  },
  {
   "cell_type": "code",
   "execution_count": null,
   "metadata": {},
   "outputs": [],
   "source": []
  }
 ],
 "metadata": {
  "colab": {
   "collapsed_sections": [],
   "name": "Exercise 5 - Question.ipynb",
   "provenance": []
  },
  "kernelspec": {
   "display_name": "Python [conda env:py3_TF2.0]",
   "language": "python",
   "name": "conda-env-py3_TF2.0-py"
  },
  "language_info": {
   "codemirror_mode": {
    "name": "ipython",
    "version": 3
   },
   "file_extension": ".py",
   "mimetype": "text/x-python",
   "name": "python",
   "nbconvert_exporter": "python",
   "pygments_lexer": "ipython3",
   "version": "3.5.6"
  }
 },
 "nbformat": 4,
 "nbformat_minor": 1
}
