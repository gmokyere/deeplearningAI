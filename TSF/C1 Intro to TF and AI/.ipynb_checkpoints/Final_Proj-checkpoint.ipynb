{
 "cells": [
  {
   "cell_type": "code",
   "execution_count": 1,
   "metadata": {
    "id": "zX4Kg8DUTKWO"
   },
   "outputs": [],
   "source": [
    "#@title Licensed under the Apache License, Version 2.0 (the \"License\");\n",
    "# you may not use this file except in compliance with the License.\n",
    "# You may obtain a copy of the License at\n",
    "#\n",
    "# https://www.apache.org/licenses/LICENSE-2.0\n",
    "#\n",
    "# Unless required by applicable law or agreed to in writing, software\n",
    "# distributed under the License is distributed on an \"AS IS\" BASIS,\n",
    "# WITHOUT WARRANTIES OR CONDITIONS OF ANY KIND, either express or implied.\n",
    "# See the License for the specific language governing permissions and\n",
    "# limitations under the License."
   ]
  },
  {
   "cell_type": "markdown",
   "metadata": {
    "id": "UncprnB0ymAE"
   },
   "source": [
    "Below is code with a link to a happy or sad dataset which contains 80 images, 40 happy and 40 sad. \n",
    "Create a convolutional neural network that trains to 100% accuracy on these images,  which cancels training upon hitting training accuracy of >.999\n",
    "\n",
    "Hint -- it will work best with 3 convolutional layers."
   ]
  },
  {
   "cell_type": "code",
   "execution_count": 2,
   "metadata": {},
   "outputs": [],
   "source": [
    "import tensorflow as tf\n",
    "import os\n",
    "import zipfile\n",
    "\n",
    "DESIRED_ACCURACY = 0.999"
   ]
  },
  {
   "cell_type": "markdown",
   "metadata": {},
   "source": [
    "## Get Data"
   ]
  },
  {
   "cell_type": "code",
   "execution_count": 3,
   "metadata": {
    "colab": {
     "base_uri": "https://localhost:8080/"
    },
    "id": "7Vti6p3PxmpS",
    "outputId": "b7fb493f-95fe-48df-884f-031c4b953b4a",
    "scrolled": true
   },
   "outputs": [],
   "source": [
    "zip_ref = zipfile.ZipFile(\"data/happy-or-sad.zip\", 'r')\n",
    "zip_ref.extractall(\"data/h-or-s\")\n",
    "zip_ref.close()"
   ]
  },
  {
   "cell_type": "markdown",
   "metadata": {},
   "source": [
    "## callbacks"
   ]
  },
  {
   "cell_type": "code",
   "execution_count": 4,
   "metadata": {},
   "outputs": [],
   "source": [
    "# YOUR CODE STARTS HERE\n",
    "class myCallback(tf.keras.callbacks.Callback):\n",
    "  def on_epoch_end(self, epoch, logs={}):\n",
    "    if(logs.get('accuracy')> DESIRED_ACCURACY):\n",
    "      print(\"\\nReached\" + str(DESIRED_ACCURACY) + '%'+ \"accuracy so cancelling training!\")\n",
    "      self.model.stop_training = True\n",
    "  # Your Code\n",
    "\n",
    "callbacks = myCallback()"
   ]
  },
  {
   "cell_type": "markdown",
   "metadata": {},
   "source": [
    "## Conv Model"
   ]
  },
  {
   "cell_type": "code",
   "execution_count": 5,
   "metadata": {
    "colab": {
     "base_uri": "https://localhost:8080/"
    },
    "id": "6DLGbXXI1j_V",
    "outputId": "05bee1b5-cc30-4e04-c1c2-e9cd8a3826a8"
   },
   "outputs": [
    {
     "name": "stdout",
     "output_type": "stream",
     "text": [
      "Model: \"sequential\"\n",
      "_________________________________________________________________\n",
      "Layer (type)                 Output Shape              Param #   \n",
      "=================================================================\n",
      "conv2d (Conv2D)              (None, 126, 126, 64)      1792      \n",
      "_________________________________________________________________\n",
      "max_pooling2d (MaxPooling2D) (None, 63, 63, 64)        0         \n",
      "_________________________________________________________________\n",
      "conv2d_1 (Conv2D)            (None, 61, 61, 64)        36928     \n",
      "_________________________________________________________________\n",
      "max_pooling2d_1 (MaxPooling2 (None, 30, 30, 64)        0         \n",
      "_________________________________________________________________\n",
      "conv2d_2 (Conv2D)            (None, 28, 28, 64)        36928     \n",
      "_________________________________________________________________\n",
      "max_pooling2d_2 (MaxPooling2 (None, 14, 14, 64)        0         \n",
      "_________________________________________________________________\n",
      "flatten (Flatten)            (None, 12544)             0         \n",
      "_________________________________________________________________\n",
      "dense (Dense)                (None, 512)               6423040   \n",
      "_________________________________________________________________\n",
      "dense_1 (Dense)              (None, 1)                 513       \n",
      "=================================================================\n",
      "Total params: 6,499,201\n",
      "Trainable params: 6,499,201\n",
      "Non-trainable params: 0\n",
      "_________________________________________________________________\n"
     ]
    }
   ],
   "source": [
    "# This Code Block should Define and Compile the Model\n",
    "model = tf.keras.models.Sequential([\n",
    "        # Your Code Here\n",
    "        tf.keras.layers.Conv2D(64, (3,3), activation= 'relu', input_shape = (128,128,3)),\n",
    "        tf.keras.layers.MaxPooling2D(2,2),\n",
    "\n",
    "        tf.keras.layers.Conv2D(64, (3,3), activation= 'relu'),\n",
    "        tf.keras.layers.MaxPooling2D(2,2),\n",
    "\n",
    "        tf.keras.layers.Conv2D(64, (3,3), activation= 'relu'),\n",
    "        tf.keras.layers.MaxPooling2D(2,2),\n",
    "\n",
    "        tf.keras.layers.Flatten(),\n",
    "        tf.keras.layers.Dense(512, activation=\"relu\"),\n",
    "        tf.keras.layers.Dense(units=1, activation='sigmoid')\n",
    "\n",
    "])\n",
    "\n",
    "from tensorflow.keras.optimizers import RMSprop\n",
    "\n",
    "model.compile(loss='binary_crossentropy',\n",
    "              optimizer=RMSprop(lr=0.0001),\n",
    "              metrics=['accuracy'])\n",
    "\n",
    "model.summary()"
   ]
  },
  {
   "cell_type": "markdown",
   "metadata": {},
   "source": [
    "## Data Generator"
   ]
  },
  {
   "cell_type": "code",
   "execution_count": 6,
   "metadata": {
    "colab": {
     "base_uri": "https://localhost:8080/"
    },
    "id": "4Ap9fUJE1vVu",
    "outputId": "6b5a94ae-8b20-4735-9057-85c3574f11f3"
   },
   "outputs": [
    {
     "name": "stdout",
     "output_type": "stream",
     "text": [
      "Found 80 images belonging to 2 classes.\n"
     ]
    }
   ],
   "source": [
    "# This code block should create an instance of an ImageDataGenerator called train_datagen \n",
    "# And a train_generator by calling train_datagen.flow_from_directory\n",
    "\n",
    "from tensorflow.keras.preprocessing.image import ImageDataGenerator\n",
    "\n",
    "train_datagen = ImageDataGenerator(rescale = 1/255) # Your Code Here\n",
    "\n",
    "train_generator = train_datagen.flow_from_directory(\n",
    "        # Your Code Here\n",
    "        'data/h-or-s',\n",
    "        target_size = (128,128),\n",
    "        batch_size = 32,\n",
    "        class_mode = 'binary'\n",
    "        )\n",
    "\n",
    "# Expected output: 'Found 80 images belonging to 2 classes'"
   ]
  },
  {
   "cell_type": "code",
   "execution_count": 7,
   "metadata": {},
   "outputs": [],
   "source": [
    "#pip install pillow\n"
   ]
  },
  {
   "cell_type": "markdown",
   "metadata": {},
   "source": [
    "## Train Model"
   ]
  },
  {
   "cell_type": "code",
   "execution_count": 8,
   "metadata": {
    "colab": {
     "base_uri": "https://localhost:8080/"
    },
    "id": "48dLm13U1-Le",
    "outputId": "57edb2c0-5f6b-45ab-c3a7-802539d932b2",
    "scrolled": true
   },
   "outputs": [
    {
     "name": "stdout",
     "output_type": "stream",
     "text": [
      "Epoch 1/15\n",
      "1/1 [==============================] - 0s 1ms/step - accuracy: 0.5000 - loss: 0.6878\n",
      "Epoch 2/15\n",
      "1/1 [==============================] - 0s 1ms/step - accuracy: 0.4688 - loss: 0.9550\n",
      "Epoch 3/15\n",
      "1/1 [==============================] - 0s 1ms/step - accuracy: 0.4375 - loss: 0.7059\n",
      "Epoch 4/15\n",
      "1/1 [==============================] - 0s 1ms/step - accuracy: 0.5000 - loss: 0.6214\n",
      "Epoch 5/15\n",
      "1/1 [==============================] - 0s 1ms/step - accuracy: 0.7812 - loss: 0.5698\n",
      "Epoch 6/15\n",
      "1/1 [==============================] - 0s 989us/step - accuracy: 0.9062 - loss: 0.5314\n",
      "Epoch 7/15\n",
      "1/1 [==============================] - 0s 1ms/step - accuracy: 0.7188 - loss: 0.5122\n",
      "Epoch 8/15\n",
      "1/1 [==============================] - 0s 961us/step - accuracy: 0.9375 - loss: 0.4828\n",
      "Epoch 9/15\n",
      "1/1 [==============================] - 0s 946us/step - accuracy: 0.4062 - loss: 0.6151\n",
      "Epoch 10/15\n",
      "1/1 [==============================] - 0s 1ms/step - accuracy: 0.3750 - loss: 0.7330\n",
      "Epoch 11/15\n",
      "1/1 [==============================] - 0s 1ms/step - accuracy: 0.9688 - loss: 0.4034\n",
      "Epoch 12/15\n",
      "1/1 [==============================] - 0s 960us/step - accuracy: 0.9375 - loss: 0.3685\n",
      "Epoch 13/15\n",
      "1/1 [==============================] - 0s 1ms/step - accuracy: 0.7500 - loss: 0.4013\n",
      "Epoch 14/15\n",
      "1/1 [==============================] - 0s 1ms/step - accuracy: 0.9375 - loss: 0.3144\n",
      "Epoch 15/15\n",
      "1/1 [==============================] - 0s 1ms/step - accuracy: 0.8750 - loss: 0.3513\n"
     ]
    },
    {
     "data": {
      "text/plain": [
       "<tensorflow.python.keras.callbacks.History at 0x7f7f8eaeac18>"
      ]
     },
     "execution_count": 8,
     "metadata": {},
     "output_type": "execute_result"
    }
   ],
   "source": [
    "# This code block should call model.fit and train for\n",
    "# a number of epochs. \n",
    "model.fit(\n",
    "      # Your Code Here\n",
    "      train_generator, \n",
    "      steps_per_epoch = 1,\n",
    "      epochs = 15,\n",
    "      verbose = 1,\n",
    "      callbacks = [callbacks]\n",
    "      )\n",
    "    \n",
    "# Expected output: \"Reached 99.9% accuracy so cancelling training!\"\""
   ]
  },
  {
   "cell_type": "code",
   "execution_count": null,
   "metadata": {},
   "outputs": [],
   "source": []
  },
  {
   "cell_type": "code",
   "execution_count": null,
   "metadata": {},
   "outputs": [],
   "source": []
  }
 ],
 "metadata": {
  "colab": {
   "name": "Exercise 4-Question.ipynb",
   "provenance": []
  },
  "kernelspec": {
   "display_name": "Python [conda env:py3_TF2.0]",
   "language": "python",
   "name": "conda-env-py3_TF2.0-py"
  },
  "language_info": {
   "codemirror_mode": {
    "name": "ipython",
    "version": 3
   },
   "file_extension": ".py",
   "mimetype": "text/x-python",
   "name": "python",
   "nbconvert_exporter": "python",
   "pygments_lexer": "ipython3",
   "version": "3.5.6"
  }
 },
 "nbformat": 4,
 "nbformat_minor": 1
}
